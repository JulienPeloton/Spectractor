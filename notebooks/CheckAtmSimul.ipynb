{
 "cells": [
  {
   "cell_type": "markdown",
   "metadata": {},
   "source": [
    "# Check atmospheric simulation\n",
    "=======================================================================\n",
    "\n",
    "- Sylvie Dagoret-Campagne\n",
    "- update 05 April 2018\n"
   ]
  },
  {
   "cell_type": "code",
   "execution_count": 170,
   "metadata": {},
   "outputs": [],
   "source": [
    "import matplotlib.pyplot as plt\n",
    "%matplotlib inline\n",
    "import sys\n",
    "import os\n",
    "from astropy.io import fits\n",
    "import numpy as np"
   ]
  },
  {
   "cell_type": "code",
   "execution_count": 171,
   "metadata": {},
   "outputs": [
    {
     "name": "stdout",
     "output_type": "stream",
     "text": [
      "The autoreload extension is already loaded. To reload it, use:\n",
      "  %reload_ext autoreload\n"
     ]
    }
   ],
   "source": [
    "%load_ext autoreload\n",
    "%autoreload 2"
   ]
  },
  {
   "cell_type": "code",
   "execution_count": 172,
   "metadata": {},
   "outputs": [
    {
     "data": {
      "text/html": [
       "<style>\n",
       "    @font-face {\n",
       "        font-family: \"Computer Modern\";\n",
       "        src: url('http://mirrors.ctan.org/fonts/cm-unicode/fonts/otf/cmunss.otf');\n",
       "    }\n",
       "    div.cell{\n",
       "        width: 90%;\n",
       "/*        margin-left:auto;*/\n",
       "/*        margin-right:auto;*/\n",
       "    }\n",
       "    ul {\n",
       "        line-height: 145%;\n",
       "        font-size: 90%;\n",
       "    }\n",
       "    li {\n",
       "        margin-bottom: 1em;\n",
       "    }\n",
       "    h1 {\n",
       "        font-family: Helvetica, serif;\n",
       "    }\n",
       "    h4{\n",
       "        margin-top: 12px;\n",
       "        margin-bottom: 3px;\n",
       "       }\n",
       "    div.text_cell_render{\n",
       "        font-family: Computer Modern, \"Helvetica Neue\", Arial, Helvetica, Geneva, sans-serif;\n",
       "        line-height: 145%;\n",
       "        font-size: 130%;\n",
       "        width: 90%;\n",
       "        margin-left:auto;\n",
       "        margin-right:auto;\n",
       "    }\n",
       "    .CodeMirror{\n",
       "            font-family: \"Source Code Pro\", source-code-pro,Consolas, monospace;\n",
       "    }\n",
       "/*    .prompt{\n",
       "        display: None;\n",
       "    }*/\n",
       "    .text_cell_render h5 {\n",
       "        font-weight: 300;\n",
       "        font-size: 16pt;\n",
       "        color: #4057A1;\n",
       "        font-style: italic;\n",
       "        margin-bottom: 0.5em;\n",
       "        margin-top: 0.5em;\n",
       "        display: block;\n",
       "    }\n",
       "\n",
       "    .warning{\n",
       "        color: rgb( 240, 20, 20 )\n",
       "        }\n",
       "</style>\n",
       "<script>\n",
       "    MathJax.Hub.Config({\n",
       "                        TeX: {\n",
       "                           extensions: [\"AMSmath.js\"]\n",
       "                           },\n",
       "                tex2jax: {\n",
       "                    inlineMath: [ ['$','$'], [\"\\\\(\",\"\\\\)\"] ],\n",
       "                    displayMath: [ ['$$','$$'], [\"\\\\[\",\"\\\\]\"] ]\n",
       "                },\n",
       "                displayAlign: 'center', // Change this to 'center' to center equations.\n",
       "                \"HTML-CSS\": {\n",
       "                    styles: {'.MathJax_Display': {\"margin\": 4}}\n",
       "                }\n",
       "        });\n",
       "</script>"
      ],
      "text/plain": [
       "<IPython.core.display.HTML object>"
      ]
     },
     "execution_count": 172,
     "metadata": {},
     "output_type": "execute_result"
    }
   ],
   "source": [
    "from IPython.core.display import HTML\n",
    "def css_styling():\n",
    "    styles = open(\"styles/custom.css\", \"r\").read()\n",
    "    return HTML(styles)\n",
    "css_styling()"
   ]
  },
  {
   "cell_type": "code",
   "execution_count": 173,
   "metadata": {},
   "outputs": [],
   "source": [
    "path='simspectra'\n",
    "filename='atmsim_20170530_210.fits'"
   ]
  },
  {
   "cell_type": "code",
   "execution_count": 174,
   "metadata": {},
   "outputs": [],
   "source": [
    "#path='test'\n",
    "#filename='atmsim_20170530_213.fits' "
   ]
  },
  {
   "cell_type": "code",
   "execution_count": 175,
   "metadata": {},
   "outputs": [],
   "source": [
    "fullfilename=os.path.join(path,filename)"
   ]
  },
  {
   "cell_type": "code",
   "execution_count": 176,
   "metadata": {},
   "outputs": [],
   "source": [
    "hdu= fits.open(fullfilename) "
   ]
  },
  {
   "cell_type": "code",
   "execution_count": 177,
   "metadata": {},
   "outputs": [
    {
     "data": {
      "text/plain": [
       "SIMPLE  =                    T / conforms to FITS standard                      \n",
       "BITPIX  =                  -64 / array data type                                \n",
       "NAXIS   =                    2 / number of array dimensions                     \n",
       "NAXIS1  =                  804                                                  \n",
       "NAXIS2  =                   28                                                  \n",
       "ATMSIM  = 'libradtran'                                                          \n",
       "SIMVERS = '2.0.1   '                                                            \n",
       "DATAFILE= 'reduc_20170530_210.fits'                                             \n",
       "SIMUFILE= 'atmsim_20170530_210.fits'                                            \n",
       "AIRMASS =                1.101                                                  \n",
       "PRESSURE=                  782                                                  \n",
       "TEMPERAT=                  9.5                                                  \n",
       "NBATMPTS=                   27                                                  \n",
       "NBAERPTS=                    3                                                  \n",
       "AERMIN  =                  0.0                                                  \n",
       "AERMAX  =                  0.1                                                  \n",
       "NBPWVPTS=                    3                                                  \n",
       "PWVMIN  =                  0.0                                                  \n",
       "PWVMAX  =                 10.0                                                  \n",
       "NBOZPTS =                    3                                                  \n",
       "OZMIN   =                  200                                                  \n",
       "OZMAX   =                  300                                                  \n",
       "AER_PTS = '[0.   0.05 0.1 ]'                                                    \n",
       "PWV_PTS = '[ 0.  5. 10.]'                                                       \n",
       "OZ_PTS  = '[200. 250. 300.]'                                                    \n",
       "NBWLBIN =                  800                                                  \n",
       "WLMIN   =                300.0                                                  \n",
       "WLMAX   =               1100.0                                                  \n",
       "IDX_CNT =                    0                                                  \n",
       "IDX_AER =                    1                                                  \n",
       "IDX_PWV =                    2                                                  \n",
       "IDX_OZ  =                    3                                                  \n",
       "IDX_DATA=                    4                                                  "
      ]
     },
     "execution_count": 177,
     "metadata": {},
     "output_type": "execute_result"
    }
   ],
   "source": [
    "hdr=hdu[0].header\n",
    "hdr"
   ]
  },
  {
   "cell_type": "code",
   "execution_count": 178,
   "metadata": {},
   "outputs": [],
   "source": [
    "data=hdu[0].data"
   ]
  },
  {
   "cell_type": "markdown",
   "metadata": {},
   "source": [
    "# Decode indexes"
   ]
  },
  {
   "cell_type": "code",
   "execution_count": 179,
   "metadata": {},
   "outputs": [],
   "source": [
    "filenamedata=hdr['DATAFILE']\n",
    "filenamesim=hdr['SIMUFILE']\n",
    "            \n",
    "am=hdr['AIRMASS']\n",
    "P=hdr['PRESSURE']\n",
    "T=hdr['TEMPERAT']\n",
    "NB_ATM_Points=hdr['NBATMPTS']\n",
    "        \n",
    "NB_AER_POINTS=hdr['NBAERPTS']\n",
    "AER_MIN=hdr['AERMIN']\n",
    "AER_MAX=hdr['AERMAX']\n",
    "\n",
    "NB_PWV_POINTS=hdr['NBPWVPTS']\n",
    "PWV_MIN=hdr['PWVMIN']\n",
    "PWV_MAX=hdr['PWVMAX'] \n",
    "        \n",
    "NB_OZ_POINTS=hdr['NBOZPTS']\n",
    "OZ_MIN=hdr['OZMIN'] \n",
    "OZ_MAX=hdr['OZMAX']  \n",
    "\n",
    "\n",
    "NBWLBINS=hdr['NBWLBIN']\n",
    "WLMIN=hdr['WLMIN']\n",
    "WLMAX=hdr['WLMAX']\n",
    "    \n",
    "index_atm_count=hdr['IDX_CNT']\n",
    "index_atm_aer=hdr['IDX_AER']\n",
    "index_atm_pwv=hdr['IDX_PWV']\n",
    "index_atm_oz=hdr['IDX_OZ']\n",
    "index_atm_data=hdr['IDX_DATA']"
   ]
  },
  {
   "cell_type": "markdown",
   "metadata": {},
   "source": [
    "# Wavelengths"
   ]
  },
  {
   "cell_type": "code",
   "execution_count": 180,
   "metadata": {},
   "outputs": [],
   "source": [
    "WL=data[0,index_atm_data:]"
   ]
  },
  {
   "cell_type": "code",
   "execution_count": 181,
   "metadata": {},
   "outputs": [
    {
     "data": {
      "text/plain": [
       "(800,)"
      ]
     },
     "execution_count": 181,
     "metadata": {},
     "output_type": "execute_result"
    }
   ],
   "source": [
    "WL.shape"
   ]
  },
  {
   "cell_type": "code",
   "execution_count": 182,
   "metadata": {},
   "outputs": [
    {
     "data": {
      "image/png": "[encoded data removed]",
      "text/plain": [
       "<matplotlib.figure.Figure at 0x1173adbd0>"
      ]
     },
     "metadata": {},
     "output_type": "display_data"
    }
   ],
   "source": [
    "plt.plot(WL)\n",
    "plt.grid()"
   ]
  },
  {
   "cell_type": "markdown",
   "metadata": {},
   "source": [
    "# check aerosols"
   ]
  },
  {
   "cell_type": "code",
   "execution_count": 183,
   "metadata": {},
   "outputs": [],
   "source": [
    "indexes_aer=np.where(np.logical_and(data[:,index_atm_pwv]==5.0, data[:,index_atm_oz]==300.))[0]"
   ]
  },
  {
   "cell_type": "code",
   "execution_count": 184,
   "metadata": {},
   "outputs": [
    {
     "data": {
      "text/plain": [
       "array([0.  , 0.05, 0.1 ])"
      ]
     },
     "execution_count": 184,
     "metadata": {},
     "output_type": "execute_result"
    }
   ],
   "source": [
    "aer_values=data[indexes_aer,index_atm_aer]\n",
    "aer_values"
   ]
  },
  {
   "cell_type": "code",
   "execution_count": 185,
   "metadata": {},
   "outputs": [],
   "source": [
    "aer_data=data[indexes_aer,index_atm_data:]"
   ]
  },
  {
   "cell_type": "code",
   "execution_count": 186,
   "metadata": {},
   "outputs": [
    {
     "data": {
      "text/plain": [
       "(3, 800)"
      ]
     },
     "execution_count": 186,
     "metadata": {},
     "output_type": "execute_result"
    }
   ],
   "source": [
    "aer_data.shape"
   ]
  },
  {
   "cell_type": "code",
   "execution_count": 187,
   "metadata": {},
   "outputs": [
    {
     "data": {
      "text/plain": [
       "Text(0.5,1,u'Aerosols Variation')"
      ]
     },
     "execution_count": 187,
     "metadata": {},
     "output_type": "execute_result"
    },
    {
     "data": {
      "image/png": "[encoded data removed]",
      "text/plain": [
       "<matplotlib.figure.Figure at 0x117d40790>"
      ]
     },
     "metadata": {},
     "output_type": "display_data"
    }
   ],
   "source": [
    "for idx,aer in np.ndenumerate(aer_values):\n",
    "    plt.plot(WL, aer_data[idx[0],:])\n",
    "plt.grid()\n",
    "plt.xlabel(\"$\\lambda (nm)\")\n",
    "plt.ylabel(\"atm transparency\")\n",
    "plt.title(\"Aerosols Variation\")"
   ]
  },
  {
   "cell_type": "markdown",
   "metadata": {},
   "source": [
    "# Check precipitable water vapor"
   ]
  },
  {
   "cell_type": "code",
   "execution_count": 188,
   "metadata": {},
   "outputs": [],
   "source": [
    "indexes_pwv=np.where(np.logical_and(data[:,index_atm_aer]==0, data[:,index_atm_oz]==300.))[0]"
   ]
  },
  {
   "cell_type": "code",
   "execution_count": 189,
   "metadata": {},
   "outputs": [
    {
     "data": {
      "text/plain": [
       "array([ 0.,  5., 10.])"
      ]
     },
     "execution_count": 189,
     "metadata": {},
     "output_type": "execute_result"
    }
   ],
   "source": [
    "pwv_values=data[indexes_pwv,index_atm_pwv]\n",
    "pwv_values"
   ]
  },
  {
   "cell_type": "code",
   "execution_count": 190,
   "metadata": {},
   "outputs": [],
   "source": [
    "pwv_data=data[indexes_pwv,index_atm_data:]"
   ]
  },
  {
   "cell_type": "code",
   "execution_count": 191,
   "metadata": {},
   "outputs": [
    {
     "data": {
      "text/plain": [
       "Text(0.5,1,u'PWV Variation')"
      ]
     },
     "execution_count": 191,
     "metadata": {},
     "output_type": "execute_result"
    },
    {
     "data": {
      "image/png": "[encoded data removed]",
      "text/plain": [
       "<matplotlib.figure.Figure at 0x117e58750>"
      ]
     },
     "metadata": {},
     "output_type": "display_data"
    }
   ],
   "source": [
    "for idx,pwv in np.ndenumerate(pwv_values):\n",
    "    plt.plot(WL, pwv_data[idx[0],:])\n",
    "plt.grid()\n",
    "plt.xlabel(\"$\\lambda (nm)\")\n",
    "plt.ylabel(\"atm transparency\")\n",
    "plt.title(\"PWV Variation\")"
   ]
  },
  {
   "cell_type": "markdown",
   "metadata": {},
   "source": [
    "## Check Ozone"
   ]
  },
  {
   "cell_type": "code",
   "execution_count": 192,
   "metadata": {},
   "outputs": [],
   "source": [
    "indexes_oz=np.where(np.logical_and(data[:,index_atm_aer]==0, data[:,index_atm_pwv]==5.))[0]"
   ]
  },
  {
   "cell_type": "code",
   "execution_count": 193,
   "metadata": {},
   "outputs": [
    {
     "data": {
      "text/plain": [
       "array([200., 250., 300.])"
      ]
     },
     "execution_count": 193,
     "metadata": {},
     "output_type": "execute_result"
    }
   ],
   "source": [
    "oz_values=data[indexes_oz,index_atm_oz]\n",
    "oz_values"
   ]
  },
  {
   "cell_type": "code",
   "execution_count": 194,
   "metadata": {},
   "outputs": [],
   "source": [
    "oz_data=data[indexes_oz,index_atm_data:]"
   ]
  },
  {
   "cell_type": "code",
   "execution_count": 195,
   "metadata": {},
   "outputs": [
    {
     "data": {
      "text/plain": [
       "Text(0.5,1,u'Ozone Variation')"
      ]
     },
     "execution_count": 195,
     "metadata": {},
     "output_type": "execute_result"
    },
    {
     "data": {
      "image/png": "[encoded data removed]",
      "text/plain": [
       "<matplotlib.figure.Figure at 0x117f57250>"
      ]
     },
     "metadata": {},
     "output_type": "display_data"
    }
   ],
   "source": [
    "for idx,oz in np.ndenumerate(oz_values):\n",
    "    plt.plot(WL, oz_data[idx[0],:])\n",
    "plt.grid()\n",
    "plt.xlabel(\"$\\lambda (nm)\")\n",
    "plt.ylabel(\"atm transparency\")\n",
    "plt.ylim(0.7,1.0)\n",
    "plt.title(\"Ozone Variation\")"
   ]
  },
  {
   "cell_type": "code",
   "execution_count": null,
   "metadata": {},
   "outputs": [],
   "source": []
  }
 ],
 "metadata": {
  "anaconda-cloud": {},
  "kernelspec": {
   "display_name": "Python 2",
   "language": "python",
   "name": "python2"
  },
  "language_info": {
   "codemirror_mode": {
    "name": "ipython",
    "version": 2
   },
   "file_extension": ".py",
   "mimetype": "text/x-python",
   "name": "python",
   "nbconvert_exporter": "python",
   "pygments_lexer": "ipython2",
   "version": "2.7.14"
  },
  "toc": {
   "nav_menu": {
    "height": "12px",
    "width": "252px"
   },
   "number_sections": true,
   "sideBar": true,
   "skip_h1_title": false,
   "toc_cell": false,
   "toc_position": {},
   "toc_section_display": "block",
   "toc_window_display": false
  }
 },
 "nbformat": 4,
 "nbformat_minor": 2
}
